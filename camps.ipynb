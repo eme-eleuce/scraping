{
 "cells": [
  {
   "cell_type": "code",
   "execution_count": 3,
   "metadata": {},
   "outputs": [],
   "source": [
    "import pandas as pd\n",
    "import re"
   ]
  },
  {
   "cell_type": "markdown",
   "metadata": {},
   "source": [
    "# I decided to gather information from the ACA (American Camp Association) about the overnight summer camps registered on their website.\n",
    "\n",
    "- According to the ACA itself, there are around 20,000 camps, divided into three main categories: Day, Overnight, and Family/Adult camps. Some camps offer one or more of these categories throughout the year. I decided to use only ACA data because it is the most important association in this industry, with over 100 years of history.\n",
    "\n",
    "In my first attempt, I used **Instant Data Scraper**, a Google Chrome extension, which retrieved data from more than 2,000 camps.\n",
    "\n",
    "For my second attempt, I used **Octoparse** to collect more detailed information about each camp."
   ]
  },
  {
   "cell_type": "code",
   "execution_count": 4,
   "metadata": {},
   "outputs": [],
   "source": [
    "path1 = r\"C:\\Users\\luism\\Documents\\Luis Code\\CSV\\Summer Camps USA - 2025.csv\"\n",
    "path2 = r\"C:\\Users\\luism\\Documents\\Luis Code\\CSV\\find.csv\"\n",
    "path3 = r\"C:\\Users\\luism\\Documents\\Luis Code\\CSV\\CAmps.2.csv\"\n",
    "\n",
    "csv2 = pd.read_csv(path2)\n",
    "csv1 = pd.read_csv(path1)\n"
   ]
  },
  {
   "cell_type": "markdown",
   "metadata": {},
   "source": [
    "**Due to the scraping method I used, the City and State were not in the first columns. Therefore, I had to search through the CSV file to retrieve this information.**\n",
    "\n"
   ]
  },
  {
   "cell_type": "code",
   "execution_count": 8,
   "metadata": {},
   "outputs": [
    {
     "data": {
      "text/plain": [
       "0    (Great Barrington, MA)\\t\\t\\t\\t\\t\\t\\tCamp Chaza...\n",
       "1    (Merrill, NY)\\t\\t\\t\\t\\t\\t\\tCamp Chateaugay is ...\n",
       "2    (South Hero, VT)\\t\\t\\t\\t\\t\\t\\tLocated on the b...\n",
       "3    (Holly, MI)\\t\\t\\t\\t\\t\\t\\tWhile discovering new...\n",
       "4    (Warsaw, MO)\\t\\t\\t\\t\\t\\t\\tSummer Bible Camp fo...\n",
       "Name: pio, dtype: object"
      ]
     },
     "execution_count": 8,
     "metadata": {},
     "output_type": "execute_result"
    }
   ],
   "source": [
    "\n",
    "# Extract the 8th column (which contains the city and state information)\n",
    "description_column = csv2[\"pio\"]\n",
    "\n",
    "# Display a sample of the 8th column to understand its structure\n",
    "description_column.head()\n"
   ]
  },
  {
   "cell_type": "markdown",
   "metadata": {},
   "source": [
    "**Thanks to ChatGPT, it created two columns with City and State for each row.**"
   ]
  },
  {
   "cell_type": "code",
   "execution_count": 9,
   "metadata": {},
   "outputs": [
    {
     "data": {
      "text/html": [
       "<div>\n",
       "<style scoped>\n",
       "    .dataframe tbody tr th:only-of-type {\n",
       "        vertical-align: middle;\n",
       "    }\n",
       "\n",
       "    .dataframe tbody tr th {\n",
       "        vertical-align: top;\n",
       "    }\n",
       "\n",
       "    .dataframe thead th {\n",
       "        text-align: right;\n",
       "    }\n",
       "</style>\n",
       "<table border=\"1\" class=\"dataframe\">\n",
       "  <thead>\n",
       "    <tr style=\"text-align: right;\">\n",
       "      <th></th>\n",
       "      <th>city</th>\n",
       "      <th>state</th>\n",
       "    </tr>\n",
       "  </thead>\n",
       "  <tbody>\n",
       "    <tr>\n",
       "      <th>0</th>\n",
       "      <td>Great Barrington</td>\n",
       "      <td>MA</td>\n",
       "    </tr>\n",
       "    <tr>\n",
       "      <th>1</th>\n",
       "      <td>Merrill</td>\n",
       "      <td>NY</td>\n",
       "    </tr>\n",
       "    <tr>\n",
       "      <th>2</th>\n",
       "      <td>South Hero</td>\n",
       "      <td>VT</td>\n",
       "    </tr>\n",
       "    <tr>\n",
       "      <th>3</th>\n",
       "      <td>Holly</td>\n",
       "      <td>MI</td>\n",
       "    </tr>\n",
       "    <tr>\n",
       "      <th>4</th>\n",
       "      <td>Warsaw</td>\n",
       "      <td>MO</td>\n",
       "    </tr>\n",
       "  </tbody>\n",
       "</table>\n",
       "</div>"
      ],
      "text/plain": [
       "               city state\n",
       "0  Great Barrington    MA\n",
       "1           Merrill    NY\n",
       "2        South Hero    VT\n",
       "3             Holly    MI\n",
       "4            Warsaw    MO"
      ]
     },
     "execution_count": 9,
     "metadata": {},
     "output_type": "execute_result"
    }
   ],
   "source": [
    "\n",
    "# Define a function to extract city and state using regex\n",
    "def extract_city_state(description):\n",
    "    match = re.search(r\"\\((.*?),\\s*(.*?)\\)\", str(description))\n",
    "    if match:\n",
    "        return match.group(1), match.group(2)\n",
    "    return None, None\n",
    "\n",
    "# Apply the function to extract city and state\n",
    "csv2[\"city\"], csv2[\"state\"] = zip(*description_column.apply(extract_city_state))\n",
    "\n",
    "# Display the resulting dataset with the new columns\n",
    "csv2[[\"city\", \"state\"]].head()\n"
   ]
  },
  {
   "cell_type": "code",
   "execution_count": 10,
   "metadata": {},
   "outputs": [
    {
     "name": "stdout",
     "output_type": "stream",
     "text": [
      "Advertencia: Hay valores nulos en la columna 'Camp Name'.\n"
     ]
    },
    {
     "name": "stderr",
     "output_type": "stream",
     "text": [
      "C:\\Users\\luism\\AppData\\Local\\Temp\\ipykernel_11568\\3949599576.py:11: SettingWithCopyWarning: \n",
      "A value is trying to be set on a copy of a slice from a DataFrame.\n",
      "Try using .loc[row_indexer,col_indexer] = value instead\n",
      "\n",
      "See the caveats in the documentation: https://pandas.pydata.org/pandas-docs/stable/user_guide/indexing.html#returning-a-view-versus-a-copy\n",
      "  csv2['col-sm-4 3'] = csv2['col-sm-4 3'].str.replace(r'program\\(s\\)$', '', regex=True).str.strip()\n"
     ]
    },
    {
     "data": {
      "text/html": [
       "<div>\n",
       "<style scoped>\n",
       "    .dataframe tbody tr th:only-of-type {\n",
       "        vertical-align: middle;\n",
       "    }\n",
       "\n",
       "    .dataframe tbody tr th {\n",
       "        vertical-align: top;\n",
       "    }\n",
       "\n",
       "    .dataframe thead th {\n",
       "        text-align: right;\n",
       "    }\n",
       "</style>\n",
       "<table border=\"1\" class=\"dataframe\">\n",
       "  <thead>\n",
       "    <tr style=\"text-align: right;\">\n",
       "      <th></th>\n",
       "      <th>camp_name</th>\n",
       "      <th>address</th>\n",
       "      <th>Texto2</th>\n",
       "      <th>Texto3</th>\n",
       "      <th>Texto4</th>\n",
       "      <th>city</th>\n",
       "      <th>state</th>\n",
       "      <th>accredited-member</th>\n",
       "      <th>col-sm-4 3</th>\n",
       "      <th>zip_code</th>\n",
       "    </tr>\n",
       "  </thead>\n",
       "  <tbody>\n",
       "    <tr>\n",
       "      <th>0</th>\n",
       "      <td>URJ Eisner Camp</td>\n",
       "      <td>53 Brookside Rd,  01230-2186View Map »</td>\n",
       "      <td>Jewish, Reform</td>\n",
       "      <td></td>\n",
       "      <td>URJ Eisner and Crane Lake Camp (Operator)</td>\n",
       "      <td>Great Barrington</td>\n",
       "      <td>MA</td>\n",
       "      <td>Accredited Member</td>\n",
       "      <td>4</td>\n",
       "      <td>01230-2186</td>\n",
       "    </tr>\n",
       "    <tr>\n",
       "      <th>1</th>\n",
       "      <td>Camp Chateaugay</td>\n",
       "      <td>233 Gadway Rd,  12955-2307View Map »</td>\n",
       "      <td>Independent, For Profit</td>\n",
       "      <td>Mitch Goldman</td>\n",
       "      <td>Chateaugay Campco, LLC (Operator)</td>\n",
       "      <td>Merrill</td>\n",
       "      <td>NY</td>\n",
       "      <td>Accredited Member</td>\n",
       "      <td>2</td>\n",
       "      <td>12955-2307</td>\n",
       "    </tr>\n",
       "    <tr>\n",
       "      <th>2</th>\n",
       "      <td>YWCA VT Camp Hochelaga</td>\n",
       "      <td>34 Hochelaga Rd,  05486-4807View Map »</td>\n",
       "      <td>YWCA</td>\n",
       "      <td>Christine Perry</td>\n",
       "      <td>YWCA Vermont</td>\n",
       "      <td>South Hero</td>\n",
       "      <td>VT</td>\n",
       "      <td>Accredited Member</td>\n",
       "      <td>2</td>\n",
       "      <td>05486-4807</td>\n",
       "    </tr>\n",
       "    <tr>\n",
       "      <th>3</th>\n",
       "      <td>YMCA Camp Ohiyesa</td>\n",
       "      <td>7300 Hickory Ridge Rd,  48442-8929View Map »</td>\n",
       "      <td>YMCA</td>\n",
       "      <td>Doug Grimm</td>\n",
       "      <td>YMCA Camping Services of Detroit</td>\n",
       "      <td>Holly</td>\n",
       "      <td>MI</td>\n",
       "      <td>Accredited Member</td>\n",
       "      <td>4</td>\n",
       "      <td>48442-8929</td>\n",
       "    </tr>\n",
       "    <tr>\n",
       "      <th>4</th>\n",
       "      <td>Camp CUMCITO</td>\n",
       "      <td>13220 Mission Rd,  65355-5613View Map »</td>\n",
       "      <td>Nondenominational Christian</td>\n",
       "      <td></td>\n",
       "      <td>City Union Mission</td>\n",
       "      <td>Warsaw</td>\n",
       "      <td>MO</td>\n",
       "      <td>Accredited Member</td>\n",
       "      <td>4</td>\n",
       "      <td>13220</td>\n",
       "    </tr>\n",
       "  </tbody>\n",
       "</table>\n",
       "</div>"
      ],
      "text/plain": [
       "                camp_name                                       address  \\\n",
       "0         URJ Eisner Camp        53 Brookside Rd,  01230-2186View Map »   \n",
       "1         Camp Chateaugay          233 Gadway Rd,  12955-2307View Map »   \n",
       "2  YWCA VT Camp Hochelaga        34 Hochelaga Rd,  05486-4807View Map »   \n",
       "3       YMCA Camp Ohiyesa  7300 Hickory Ridge Rd,  48442-8929View Map »   \n",
       "4            Camp CUMCITO       13220 Mission Rd,  65355-5613View Map »   \n",
       "\n",
       "                        Texto2           Texto3  \\\n",
       "0               Jewish, Reform                    \n",
       "1      Independent, For Profit    Mitch Goldman   \n",
       "2                         YWCA  Christine Perry   \n",
       "3                         YMCA       Doug Grimm   \n",
       "4  Nondenominational Christian                    \n",
       "\n",
       "                                      Texto4              city state  \\\n",
       "0  URJ Eisner and Crane Lake Camp (Operator)  Great Barrington    MA   \n",
       "1          Chateaugay Campco, LLC (Operator)           Merrill    NY   \n",
       "2                               YWCA Vermont        South Hero    VT   \n",
       "3           YMCA Camping Services of Detroit             Holly    MI   \n",
       "4                         City Union Mission            Warsaw    MO   \n",
       "\n",
       "   accredited-member col-sm-4 3    zip_code  \n",
       "0  Accredited Member          4  01230-2186  \n",
       "1  Accredited Member          2  12955-2307  \n",
       "2  Accredited Member          2  05486-4807  \n",
       "3  Accredited Member          4  48442-8929  \n",
       "4  Accredited Member          4       13220  "
      ]
     },
     "execution_count": 10,
     "metadata": {},
     "output_type": "execute_result"
    }
   ],
   "source": [
    "\n",
    "selected_columns = [\"camp_name\", \"city\", \"state\", \"accredited-member\", \"col-sm-4 3\"]\n",
    "csv2 = csv2[selected_columns]\n",
    "\n",
    "\n",
    "if 'col-sm-4 3' in csv2.columns:\n",
    "    csv2['col-sm-4 3'] = csv2['col-sm-4 3'].str.replace(r'program\\(s\\)$', '', regex=True).str.strip()\n",
    "else:\n",
    "    print(\"Advertencia: La columna 'col-sm-4 3' no se encontró en csv1.\")\n",
    "\n",
    "if 'address' in csv1.columns:\n",
    "    csv1['address'] = csv1['address'].str.replace(r'View Map »$', '', regex=True).str.strip()\n",
    "else:\n",
    "    print(\"Advertencia: La columna 'address' no se encontró en csv1.\")\n",
    "\n",
    "if 'Texto3' in csv1.columns:\n",
    "    csv1['Texto3'] = csv1['Texto3'].str.replace(r'Director\\(s\\):', '', regex=True).str.strip()\n",
    "    \n",
    "if 'Texto4' in csv1.columns:\n",
    "    csv1['Texto4'] = csv1['Texto4'].str.replace(r'Operator\\(s\\):', '', regex=True).str.strip()\n",
    "   \n",
    "\n",
    "if csv1[\"camp_name\"].isnull().any() or csv2[\"camp_name\"].isnull().any():\n",
    "    print(\"Advertencia: Hay valores nulos en la columna 'Camp Name'.\")\n",
    "\n",
    "    \n",
    "\n",
    "merged_csv = pd.merge(csv1, csv2, on=\"camp_name\", how=\"left\")\n",
    "merged_csv['zip_code'] = merged_csv['address'].str.extract(r'(\\d{5}(?:-\\d{4})?)')\n",
    "merged_csv['address'] = merged_csv['address'].str.replace(r'\\d{5}(-\\d{4})?$', '', regex=True).str.strip()\n",
    "\n",
    "merged_csv[['address', 'city', 'state']] = merged_csv[['address', 'city', 'state']].fillna('')\n",
    "\n",
    "\n",
    "merged_csv['address'] = merged_csv.apply(lambda row: row['address']\n",
    "                               .replace(row['city'], '')\n",
    "                               .replace(row['state'], '')\n",
    "                               .replace(',,', ',')  \n",
    "                               .strip(', ')         \n",
    "                               .rstrip(','),        \n",
    "                               axis=1)\n",
    "\n",
    "\n",
    "if 'address' in merged_csv.columns:\n",
    "    merged_csv['address'] = merged_csv['address'].str.strip().str.rstrip(',').str.strip()\n",
    "\n",
    "\n",
    "merged_csv.head()\n",
    "\n",
    "\n"
   ]
  },
  {
   "cell_type": "code",
   "execution_count": 5,
   "metadata": {},
   "outputs": [
    {
     "name": "stdout",
     "output_type": "stream",
     "text": [
      "Se encontraron 128 campamentos que no están en csv1.\n"
     ]
    }
   ],
   "source": [
    "merged = csv2.merge(csv1, on=\"camp_name\", how=\"left\", indicator=True)\n",
    "missing_camps = merged[merged[\"_merge\"] == \"left_only\"].drop(columns=[\"_merge\"])\n",
    "\n",
    "\n",
    "\n",
    "print(f\"Se encontraron {len(missing_camps)} campamentos que no están en csv1.\")\n"
   ]
  }
 ],
 "metadata": {
  "kernelspec": {
   "display_name": "Python 3",
   "language": "python",
   "name": "python3"
  },
  "language_info": {
   "codemirror_mode": {
    "name": "ipython",
    "version": 3
   },
   "file_extension": ".py",
   "mimetype": "text/x-python",
   "name": "python",
   "nbconvert_exporter": "python",
   "pygments_lexer": "ipython3",
   "version": "3.13.1"
  }
 },
 "nbformat": 4,
 "nbformat_minor": 2
}
